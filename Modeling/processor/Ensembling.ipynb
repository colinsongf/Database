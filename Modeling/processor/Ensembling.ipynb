{
 "cells": [
  {
   "cell_type": "code",
   "execution_count": 10,
   "metadata": {
    "collapsed": false
   },
   "outputs": [],
   "source": [
    "import matplotlib\n",
    "import matplotlib.pyplot as plt\n",
    "import seaborn as sns\n",
    "import pandas as pd\n",
    "import numpy as np\n",
    "from IPython.display import clear_output\n",
    "from sklearn.ensemble import RandomForestClassifier, ExtraTreesClassifier\n",
    "from sklearn.cross_validation import KFold, cross_val_score\n",
    "from sklearn.feature_selection import SelectKBest, f_classif\n",
    "from sklearn.pipeline import Pipeline, FeatureUnion, make_pipeline, make_union\n",
    "from sklearn.grid_search import GridSearchCV, RandomizedSearchCV\n",
    "from sklearn.decomposition import PCA\n",
    "from scipy.stats import randint, uniform, mstats\n",
    "import xgboost as xgb\n",
    "import process_data\n",
    "import classifier\n",
    "import csv\n",
    "%matplotlib inline"
   ]
  },
  {
   "cell_type": "code",
   "execution_count": 4,
   "metadata": {
    "collapsed": false
   },
   "outputs": [
    {
     "name": "stdout",
     "output_type": "stream",
     "text": [
      "['home_start_p1_FG3_PCT' 'home_start_p1_FG_PCT' 'home_start_p1_FT_PCT'\n",
      " 'home_start_p1_MIN' 'home_start_p1_PF' 'home_start_p1_PLUS_MINUS'\n",
      " 'home_start_p1_PTS' 'home_start_p1_3PAr' 'home_start_p1_ASTr'\n",
      " 'home_start_p1_BLKr' 'home_start_p1_DRBr' 'home_start_p1_DRtg'\n",
      " 'home_start_p1_DWS' 'home_start_p1_FTr' 'home_start_p1_ORBr'\n",
      " 'home_start_p1_ORtg' 'home_start_p1_OWS' 'home_start_p1_STLr'\n",
      " 'home_start_p1_TOVr' 'home_start_p1_TRBr' 'home_start_p1_TS'\n",
      " 'home_start_p1_USGr' 'home_start_p1_WS' 'home_start_p1_WS48'\n",
      " 'home_start_p1_atb3_freq' 'home_start_p1_atb3_pps' 'home_start_p1_c3_freq'\n",
      " 'home_start_p1_c3_pps' 'home_start_p1_mid_freq' 'home_start_p1_mid_pps']\n"
     ]
    }
   ],
   "source": [
    "# Load data\n",
    "df_x, x, y, game_ids = classifier.load_data('output_7.pkl')\n",
    "\n",
    "print df_x.columns.values[:30]  # print the first 30 columns"
   ]
  },
  {
   "cell_type": "code",
   "execution_count": 17,
   "metadata": {
    "collapsed": false
   },
   "outputs": [],
   "source": [
    "# create pipeline\n",
    "xgb_select = SelectKBest(f_classif, k=200)\n",
    "selection = SelectKBest(f_classif, k=120)\n",
    "selection2 = SelectKBest(f_classif, k=80)\n",
    "selection3 = SelectKBest(f_classif, k=40)\n",
    "pca = PCA(n_components=3)\n",
    "union3 = FeatureUnion([('pca', pca), ('select', selection3)])\n",
    "\n",
    "clf = ExtraTreesClassifier(n_estimators=1100, n_jobs=-1, min_samples_split=6, min_samples_leaf=3, random_state=3333)\n",
    "clf2 = ExtraTreesClassifier(n_estimators=1100, n_jobs=-1, min_samples_split=6, min_samples_leaf=3, random_state=12)\n",
    "clf3 = ExtraTreesClassifier(n_estimators=1100, n_jobs=-1, random_state=1337)\n",
    "\n",
    "\n",
    "\n",
    "pipeline = make_pipeline(selection, clf)\n",
    "kf = KFold(len(df_x.index), n_folds=5, shuffle=True, random_state=12323)\n",
    "\n",
    "params = {'max_depth': 6, 'eta': 0.005, 'silent': 1, 'objective': 'binary:logistic',\n",
    "          'colsample_bytree': 0.3, 'min_child_weight': 37, 'seed': 233, 'gamma': 4}\n",
    "\n",
    "xgb_clf = xgb.XGBClassifier(n_estimators=200, learning_rate=0.005, max_depth=6, \n",
    "                        colsample_bytree=0.3, min_child_weight=37, seed=233, gamma=4)\n",
    "\n",
    "xgb_clf2 = xgb.XGBClassifier(n_estimators=200, learning_rate=0.005, max_depth=6, \n",
    "                        colsample_bytree=0.5, min_child_weight=37, seed=3213, gamma=4)\n",
    "\n",
    "xgb_clf3 = xgb.XGBClassifier(n_estimators=150, learning_rate=0.01, max_depth=6, \n",
    "                        colsample_bytree=0.5, min_child_weight=37, seed=12323, gamma=1)\n",
    "\n",
    "xgb_clf4 = xgb.XGBClassifier(n_estimators=250, learning_rate=0.005, max_depth=6, \n",
    "                        colsample_bytree=0.5, min_child_weight=37, seed=1337, gamma=4)\n",
    "\n",
    "xgb_clf5 = xgb.XGBClassifier(n_estimators=150, learning_rate=0.01, max_depth=6, \n",
    "                        colsample_bytree=0.5, min_child_weight=37, seed=4)\n",
    "\n",
    "xgb_clf6 = xgb.XGBClassifier(n_estimators=150, learning_rate=0.01, max_depth=6, \n",
    "                        colsample_bytree=0.6, subsample=0.9, min_child_weight=23, seed=422)\n"
   ]
  },
  {
   "cell_type": "code",
   "execution_count": 18,
   "metadata": {
    "collapsed": false
   },
   "outputs": [
    {
     "name": "stdout",
     "output_type": "stream",
     "text": [
      "Training...extratrees120\n",
      "Training...extratrees80\n",
      "Training...extratrees30pca\n",
      "Training...xgb_col0.3\n",
      "Training...xgb_col0.5\n",
      "Training...xgb_eta0.01\n",
      "Training...xgbcol0.5v2\n",
      "Training...xgb_eta0.01v2\n",
      "Training...xgb_minchild23\n",
      "Training...extratrees120\n",
      "Training...extratrees80\n",
      "Training...extratrees30pca\n",
      "Training...xgb_col0.3\n",
      "Training...xgb_col0.5\n",
      "Training...xgb_eta0.01\n",
      "Training...xgbcol0.5v2\n",
      "Training...xgb_eta0.01v2\n",
      "Training...xgb_minchild23\n",
      "Training...extratrees120\n",
      "Training...extratrees80\n",
      "Training...extratrees30pca\n",
      "Training...xgb_col0.3\n",
      "Training...xgb_col0.5\n",
      "Training...xgb_eta0.01\n",
      "Training...xgbcol0.5v2\n",
      "Training...xgb_eta0.01v2\n",
      "Training...xgb_minchild23\n",
      "Training...extratrees120\n",
      "Training...extratrees80\n",
      "Training...extratrees30pca\n",
      "Training...xgb_col0.3\n",
      "Training...xgb_col0.5\n",
      "Training...xgb_eta0.01\n",
      "Training...xgbcol0.5v2\n",
      "Training...xgb_eta0.01v2\n",
      "Training...xgb_minchild23\n",
      "Training...extratrees120\n",
      "Training...extratrees80\n",
      "Training...extratrees30pca\n",
      "Training...xgb_col0.3\n",
      "Training...xgb_col0.5\n",
      "Training...xgb_eta0.01\n",
      "Training...xgbcol0.5v2\n",
      "Training...xgb_eta0.01v2\n",
      "Training...xgb_minchild23\n",
      "Done\n"
     ]
    }
   ],
   "source": [
    "clf_names = ['extratrees120', 'extratrees80', 'extratrees30pca', 'xgb_col0.3', \n",
    "             'xgb_col0.5', 'xgb_eta0.01', 'xgbcol0.5v2', 'xgb_eta0.01v2', 'xgb_minchild23']\n",
    "classifiers = [clf, clf2, clf3, xgb_clf, xgb_clf2, \n",
    "               xgb_clf3, xgb_clf4, xgb_clf5, xgb_clf6]\n",
    "transformers = [selection, selection2, union3, \n",
    "                None, None, None, None, None, None]\n",
    "\n",
    "f = open('predictions.csv', 'wb')\n",
    "f_csv = csv.writer(f)\n",
    "f_csv.writerow(['game_id', 'result', 'avg_prob', 'final_pred', 'won_bet'] + clf_names)\n",
    "\n",
    "\n",
    "for train_index, test_index in kf:\n",
    "    # print 'Training...'\n",
    "    x_train = x[train_index]\n",
    "    y_train = y[train_index]\n",
    "    x_test = x[test_index]\n",
    "    y_test = y[test_index]\n",
    "\n",
    "    test_ids = game_ids[test_index]\n",
    "    ensemble_preds = []\n",
    "\n",
    "    for name, transformer, classifier in zip(clf_names, transformers, classifiers):\n",
    "        print 'Training...' + name\n",
    "\n",
    "        if transformer:\n",
    "            fitted_transformer = transformer.fit(x_train, y_train)\n",
    "            x_train_transform = fitted_transformer.transform(x_train)\n",
    "            x_test_transform = fitted_transformer.transform(x_test)\n",
    "        else:\n",
    "            x_train_transform = x_train\n",
    "            x_test_transform = x_test\n",
    "\n",
    "        fitted_classifier = classifier.fit(x_train_transform, y_train)\n",
    "\n",
    "        preds = fitted_classifier.predict_proba(x_test_transform)\n",
    "\n",
    "        ensemble_preds.append(preds[:, 0])\n",
    "\n",
    "    average_preds = mstats.gmean(np.transpose(np.array(ensemble_preds)), axis=1)\n",
    "\n",
    "    final_pred = (average_preds < 0.50).astype(int)\n",
    "    wins = (final_pred == y_test).astype(int)\n",
    "    f_csv.writerows(zip(test_ids, y_test, average_preds, final_pred, wins, *ensemble_preds))\n",
    "f.close()\n",
    "print 'Done'"
   ]
  },
  {
   "cell_type": "code",
   "execution_count": 27,
   "metadata": {
    "collapsed": true
   },
   "outputs": [],
   "source": [
    "from sklearn.linear_model import LogisticRegression\n"
   ]
  },
  {
   "cell_type": "code",
   "execution_count": 107,
   "metadata": {
    "collapsed": false
   },
   "outputs": [
    {
     "name": "stdout",
     "output_type": "stream",
     "text": [
      "[ 0.53813738  0.53265908  0.53855879  0.52001686  0.53372681] 0.532619783128\n"
     ]
    }
   ],
   "source": [
    "### df_ensemble = pd.read_csv('predictions.csv')\n",
    "\n",
    "target = df_ensemble['result'].values\n",
    "features = df_ensemble.iloc[:, 5:].values\n",
    "\n",
    "en_clf = LogisticRegression(penalty='l2', C=1.565)\n",
    "\n",
    "scores = cross_val_score(en_clf, features, target, cv=5)\n",
    "print scores, scores.mean()"
   ]
  },
  {
   "cell_type": "code",
   "execution_count": 79,
   "metadata": {
    "collapsed": false
   },
   "outputs": [
    {
     "name": "stdout",
     "output_type": "stream",
     "text": [
      "[ 0.53327717  0.54085931  0.52569503  0.53074979  0.53917439  0.53625632\n",
      "  0.51096121  0.52445194  0.53204047  0.53248945] 0.530595508749\n"
     ]
    }
   ],
   "source": []
  }
 ],
 "metadata": {
  "kernelspec": {
   "display_name": "Python 2",
   "language": "python",
   "name": "python2"
  },
  "language_info": {
   "codemirror_mode": {
    "name": "ipython",
    "version": 2
   },
   "file_extension": ".py",
   "mimetype": "text/x-python",
   "name": "python",
   "nbconvert_exporter": "python",
   "pygments_lexer": "ipython2",
   "version": "2.7.10"
  }
 },
 "nbformat": 4,
 "nbformat_minor": 0
}
